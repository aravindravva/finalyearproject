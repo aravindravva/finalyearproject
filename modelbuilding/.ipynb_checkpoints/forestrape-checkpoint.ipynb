{
 "cells": [
  {
   "cell_type": "code",
   "execution_count": 1,
   "id": "15a7b402",
   "metadata": {},
   "outputs": [],
   "source": [
    "import numpy as np\n",
    "import pandas as pd\n",
    "import matplotlib.pyplot as plt"
   ]
  },
  {
   "cell_type": "code",
   "execution_count": 2,
   "id": "34581436",
   "metadata": {
    "scrolled": true
   },
   "outputs": [],
   "source": [
    "df=pd.read_csv(\"rape_data.csv\")"
   ]
  },
  {
   "cell_type": "code",
   "execution_count": 3,
   "id": "9f1ae3e0",
   "metadata": {},
   "outputs": [],
   "source": [
    "df=df.drop(['District Name'],axis=1)"
   ]
  },
  {
   "cell_type": "code",
   "execution_count": 4,
   "id": "86febddc",
   "metadata": {},
   "outputs": [],
   "source": [
    "df=df.drop([17])"
   ]
  },
  {
   "cell_type": "markdown",
   "id": "414e8b48",
   "metadata": {},
   "source": [
    "# model build"
   ]
  },
  {
   "cell_type": "code",
   "execution_count": 5,
   "id": "f4031d9f",
   "metadata": {},
   "outputs": [],
   "source": [
    "y=df.pop('No. of Rape Cases')\n",
    "x=df"
   ]
  },
  {
   "cell_type": "code",
   "execution_count": 6,
   "id": "54d15ab3",
   "metadata": {},
   "outputs": [
    {
     "data": {
      "text/plain": [
       "RandomForestRegressor(bootstrap=False, max_depth=10, n_estimators=5,\n",
       "                      random_state=0)"
      ]
     },
     "execution_count": 6,
     "metadata": {},
     "output_type": "execute_result"
    }
   ],
   "source": [
    "from sklearn.ensemble import RandomForestRegressor\n",
    "regressor = RandomForestRegressor(bootstrap=False,n_estimators = 5,random_state = 0,max_depth=10)\n",
    "regressor.fit(x, y)"
   ]
  },
  {
   "cell_type": "code",
   "execution_count": 7,
   "id": "ef253399",
   "metadata": {},
   "outputs": [
    {
     "data": {
      "text/plain": [
       "23.0"
      ]
     },
     "execution_count": 7,
     "metadata": {},
     "output_type": "execute_result"
    }
   ],
   "source": [
    "d=df.iloc[0].to_dict()\n",
    "regressor.predict(pd.DataFrame(d.values()).T)[0]"
   ]
  },
  {
   "cell_type": "code",
   "execution_count": 11,
   "id": "05d40aaa",
   "metadata": {},
   "outputs": [],
   "source": [
    "import pickle\n",
    "pickle.dump(model, open('svmprediction.pickle', 'wb')) "
   ]
  },
  {
   "cell_type": "code",
   "execution_count": 13,
   "id": "c21fed21",
   "metadata": {},
   "outputs": [],
   "source": [
    "modelfile = 'svmprediction.pickle' \n",
    "model = pickle.load(open(modelfile, 'rb')) "
   ]
  },
  {
   "cell_type": "code",
   "execution_count": 15,
   "id": "b0f5ce70",
   "metadata": {},
   "outputs": [
    {
     "data": {
      "text/plain": [
       "Index(['Count Of Rural Population', 'Count of Urban Population',\n",
       "       'Literacy rate ', 'Sex Ratio', 'SC Percentage ', 'ST Percentage ',\n",
       "       'Marginal Workers in each district ',\n",
       "       'Number of main workers in each district  ',\n",
       "       'Density of Population(per sq km)',\n",
       "       'Police Station Density Area Wise (per 100 sq km)\\r',\n",
       "       'Police Station Density Population Wise (per 1lakh population)\\n'],\n",
       "      dtype='object')"
      ]
     },
     "execution_count": 15,
     "metadata": {},
     "output_type": "execute_result"
    }
   ],
   "source": [
    "df.columns"
   ]
  }
 ],
 "metadata": {
  "kernelspec": {
   "display_name": "Python 3",
   "language": "python",
   "name": "python3"
  },
  "language_info": {
   "codemirror_mode": {
    "name": "ipython",
    "version": 3
   },
   "file_extension": ".py",
   "mimetype": "text/x-python",
   "name": "python",
   "nbconvert_exporter": "python",
   "pygments_lexer": "ipython3",
   "version": "3.8.8"
  }
 },
 "nbformat": 4,
 "nbformat_minor": 5
}
