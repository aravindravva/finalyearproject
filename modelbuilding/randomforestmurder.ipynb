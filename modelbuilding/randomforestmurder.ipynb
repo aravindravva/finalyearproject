{
 "cells": [
  {
   "cell_type": "code",
   "execution_count": 2,
   "id": "477a31b0",
   "metadata": {},
   "outputs": [],
   "source": [
    "import numpy as np\n",
    "import pandas as pd\n",
    "import matplotlib.pyplot as plt"
   ]
  },
  {
   "cell_type": "code",
   "execution_count": 3,
   "id": "f7656301",
   "metadata": {},
   "outputs": [],
   "source": [
    "df=pd.read_csv(\"murder_data.csv\")"
   ]
  },
  {
   "cell_type": "code",
   "execution_count": 4,
   "id": "486060bb",
   "metadata": {},
   "outputs": [],
   "source": [
    "df=df.drop(['District Name'],axis=1)\n",
    "df=df.drop([17])"
   ]
  },
  {
   "cell_type": "code",
   "execution_count": 5,
   "id": "40d010f9",
   "metadata": {},
   "outputs": [
    {
     "data": {
      "text/plain": [
       "Index(['Number of murders(2019)', 'Count of Rural Population',\n",
       "       'Count of Urban Population', 'Literacy Rate', 'Sex Ratio',\n",
       "       'SC Percentage ', 'ST Percentage ',\n",
       "       'Marginal Workers in each district ',\n",
       "       'Number of main workers in each district  ',\n",
       "       'Density of Population(per sq km)',\n",
       "       'Police Station Density Area Wise (per 100 sq km)',\n",
       "       'Police Station Density Population Wise (per 1lakh population)'],\n",
       "      dtype='object')"
      ]
     },
     "execution_count": 5,
     "metadata": {},
     "output_type": "execute_result"
    }
   ],
   "source": [
    "df.columns"
   ]
  },
  {
   "cell_type": "code",
   "execution_count": 5,
   "id": "db901372",
   "metadata": {},
   "outputs": [],
   "source": [
    "y=df.pop(\"Number of murders(2019)\")\n",
    "x=df"
   ]
  },
  {
   "cell_type": "code",
   "execution_count": 73,
   "id": "ef614efc",
   "metadata": {},
   "outputs": [
    {
     "data": {
      "text/plain": [
       "RandomForestRegressor(bootstrap=False, max_depth=10, n_estimators=5,\n",
       "                      random_state=0)"
      ]
     },
     "execution_count": 73,
     "metadata": {},
     "output_type": "execute_result"
    }
   ],
   "source": [
    "from sklearn.ensemble import RandomForestRegressor\n",
    "regressor = RandomForestRegressor(bootstrap=False,n_estimators = 5,random_state = 0,max_depth=10)\n",
    "regressor.fit(x, y)"
   ]
  },
  {
   "cell_type": "code",
   "execution_count": 8,
   "id": "5ca0ddb2",
   "metadata": {
    "collapsed": true
   },
   "outputs": [
    {
     "data": {
      "text/plain": [
       "0     86\n",
       "1     37\n",
       "2     59\n",
       "3     50\n",
       "4     20\n",
       "5     17\n",
       "6     12\n",
       "7     35\n",
       "8     21\n",
       "9     23\n",
       "10    42\n",
       "11    26\n",
       "12    40\n",
       "13    35\n",
       "14    16\n",
       "15    23\n",
       "16    56\n",
       "18    45\n",
       "19    48\n",
       "20    29\n",
       "21    33\n",
       "22    61\n",
       "23    21\n",
       "24    68\n",
       "25    14\n",
       "26    33\n",
       "27    24\n",
       "28    71\n",
       "29    49\n",
       "Name: Number of murders(2019), dtype: int64"
      ]
     },
     "execution_count": 8,
     "metadata": {},
     "output_type": "execute_result"
    }
   ],
   "source": [
    "y"
   ]
  },
  {
   "cell_type": "code",
   "execution_count": 81,
   "id": "4c4c9195",
   "metadata": {},
   "outputs": [],
   "source": [
    "import pickle as p\n",
    "p.dump(regressor,open(\"forestpredicionmurder.pickle\",\"wb\"))"
   ]
  },
  {
   "cell_type": "code",
   "execution_count": 84,
   "id": "898ac328",
   "metadata": {},
   "outputs": [],
   "source": [
    "model=p.load(open(\"forestpredicionmurder.pickle\",\"rb\"))"
   ]
  },
  {
   "cell_type": "code",
   "execution_count": 75,
   "id": "95b7025c",
   "metadata": {},
   "outputs": [],
   "source": [
    "d=df.iloc[0].to_dict()"
   ]
  },
  {
   "cell_type": "code",
   "execution_count": 85,
   "id": "ab9a89b6",
   "metadata": {},
   "outputs": [
    {
     "data": {
      "text/plain": [
       "86.0"
      ]
     },
     "execution_count": 85,
     "metadata": {},
     "output_type": "execute_result"
    }
   ],
   "source": [
    "regressor.predict(pd.DataFrame(d.values()).T)[0]"
   ]
  }
 ],
 "metadata": {
  "kernelspec": {
   "display_name": "Python 3",
   "language": "python",
   "name": "python3"
  },
  "language_info": {
   "codemirror_mode": {
    "name": "ipython",
    "version": 3
   },
   "file_extension": ".py",
   "mimetype": "text/x-python",
   "name": "python",
   "nbconvert_exporter": "python",
   "pygments_lexer": "ipython3",
   "version": "3.8.8"
  }
 },
 "nbformat": 4,
 "nbformat_minor": 5
}
