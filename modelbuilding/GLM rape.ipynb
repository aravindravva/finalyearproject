{
 "cells": [
  {
   "cell_type": "code",
   "execution_count": 1,
   "id": "e716efa6",
   "metadata": {},
   "outputs": [],
   "source": [
    "import pandas as pd\n",
    "import numpy as np"
   ]
  },
  {
   "cell_type": "code",
   "execution_count": 2,
   "id": "55678e38",
   "metadata": {},
   "outputs": [],
   "source": [
    "df=pd.read_csv(\"rape_data.csv\")"
   ]
  },
  {
   "cell_type": "code",
   "execution_count": 3,
   "id": "41103f0f",
   "metadata": {},
   "outputs": [],
   "source": [
    "df=df.drop(['District Name'],axis=1)"
   ]
  },
  {
   "cell_type": "code",
   "execution_count": 4,
   "id": "97097dc6",
   "metadata": {},
   "outputs": [],
   "source": [
    "df=df.drop([17])"
   ]
  },
  {
   "cell_type": "code",
   "execution_count": 5,
   "id": "348c4b4a",
   "metadata": {},
   "outputs": [],
   "source": [
    "y=df.pop('No. of Rape Cases')\n",
    "x=df"
   ]
  },
  {
   "cell_type": "markdown",
   "id": "524d595a",
   "metadata": {},
   "source": [
    "# model\n"
   ]
  },
  {
   "cell_type": "code",
   "execution_count": 6,
   "id": "74ee2cb6",
   "metadata": {},
   "outputs": [],
   "source": [
    "import statsmodels.api as sm\n",
    "import statsmodels.formula.api as smf\n",
    "import statsmodels.formula.api as glm"
   ]
  },
  {
   "cell_type": "code",
   "execution_count": 18,
   "id": "9e0be81e",
   "metadata": {},
   "outputs": [
    {
     "data": {
      "text/html": [
       "<table class=\"simpletable\">\n",
       "<caption>Generalized Linear Model Regression Results</caption>\n",
       "<tr>\n",
       "  <th>Dep. Variable:</th>   <td>No. of Rape Cases</td> <th>  No. Observations:  </th>  <td>    29</td> \n",
       "</tr>\n",
       "<tr>\n",
       "  <th>Model:</th>                  <td>GLM</td>        <th>  Df Residuals:      </th>  <td>    21</td> \n",
       "</tr>\n",
       "<tr>\n",
       "  <th>Model Family:</th>         <td>Poisson</td>      <th>  Df Model:          </th>  <td>     7</td> \n",
       "</tr>\n",
       "<tr>\n",
       "  <th>Link Function:</th>          <td>log</td>        <th>  Scale:             </th> <td>  1.0000</td>\n",
       "</tr>\n",
       "<tr>\n",
       "  <th>Method:</th>                <td>IRLS</td>        <th>  Log-Likelihood:    </th> <td> -79.916</td>\n",
       "</tr>\n",
       "<tr>\n",
       "  <th>Date:</th>            <td>Tue, 01 Jun 2021</td>  <th>  Deviance:          </th> <td>  35.572</td>\n",
       "</tr>\n",
       "<tr>\n",
       "  <th>Time:</th>                <td>11:56:28</td>      <th>  Pearson chi2:      </th>  <td>  36.5</td> \n",
       "</tr>\n",
       "<tr>\n",
       "  <th>No. Iterations:</th>          <td>4</td>         <th>                     </th>     <td> </td>   \n",
       "</tr>\n",
       "<tr>\n",
       "  <th>Covariance Type:</th>     <td>nonrobust</td>     <th>                     </th>     <td> </td>   \n",
       "</tr>\n",
       "</table>\n",
       "<table class=\"simpletable\">\n",
       "<tr>\n",
       "                      <td></td>                         <th>coef</th>     <th>std err</th>      <th>z</th>      <th>P>|z|</th>  <th>[0.025</th>    <th>0.975]</th>  \n",
       "</tr>\n",
       "<tr>\n",
       "  <th>Count Of Rural Population</th>                 <td>    0.0670</td> <td>    0.017</td> <td>    3.985</td> <td> 0.000</td> <td>    0.034</td> <td>    0.100</td>\n",
       "</tr>\n",
       "<tr>\n",
       "  <th>Count of Urban Population</th>                 <td>    0.0673</td> <td>    0.017</td> <td>    3.899</td> <td> 0.000</td> <td>    0.033</td> <td>    0.101</td>\n",
       "</tr>\n",
       "<tr>\n",
       "  <th>Literacy rate </th>                            <td>    0.0291</td> <td>    0.010</td> <td>    2.790</td> <td> 0.005</td> <td>    0.009</td> <td>    0.050</td>\n",
       "</tr>\n",
       "<tr>\n",
       "  <th>SC Percentage </th>                            <td>    0.0280</td> <td>    0.013</td> <td>    2.154</td> <td> 0.031</td> <td>    0.003</td> <td>    0.053</td>\n",
       "</tr>\n",
       "<tr>\n",
       "  <th>ST Percentage </th>                            <td>    0.0455</td> <td>    0.011</td> <td>    3.978</td> <td> 0.000</td> <td>    0.023</td> <td>    0.068</td>\n",
       "</tr>\n",
       "<tr>\n",
       "  <th>Marginal Workers in each district </th>        <td>   -0.0924</td> <td>    0.027</td> <td>   -3.449</td> <td> 0.001</td> <td>   -0.145</td> <td>   -0.040</td>\n",
       "</tr>\n",
       "<tr>\n",
       "  <th>Number of main workers in each district  </th> <td>   -0.0731</td> <td>    0.020</td> <td>   -3.571</td> <td> 0.000</td> <td>   -0.113</td> <td>   -0.033</td>\n",
       "</tr>\n",
       "<tr>\n",
       "  <th>Density of Population(per sq km)</th>          <td>    0.0014</td> <td>    0.001</td> <td>    1.898</td> <td> 0.058</td> <td>-4.65e-05</td> <td>    0.003</td>\n",
       "</tr>\n",
       "</table>"
      ],
      "text/plain": [
       "<class 'statsmodels.iolib.summary.Summary'>\n",
       "\"\"\"\n",
       "                 Generalized Linear Model Regression Results                  \n",
       "==============================================================================\n",
       "Dep. Variable:      No. of Rape Cases   No. Observations:                   29\n",
       "Model:                            GLM   Df Residuals:                       21\n",
       "Model Family:                 Poisson   Df Model:                            7\n",
       "Link Function:                    log   Scale:                          1.0000\n",
       "Method:                          IRLS   Log-Likelihood:                -79.916\n",
       "Date:                Tue, 01 Jun 2021   Deviance:                       35.572\n",
       "Time:                        11:56:28   Pearson chi2:                     36.5\n",
       "No. Iterations:                     4                                         \n",
       "Covariance Type:            nonrobust                                         \n",
       "=============================================================================================================\n",
       "                                                coef    std err          z      P>|z|      [0.025      0.975]\n",
       "-------------------------------------------------------------------------------------------------------------\n",
       "Count Of Rural Population                     0.0670      0.017      3.985      0.000       0.034       0.100\n",
       "Count of Urban Population                     0.0673      0.017      3.899      0.000       0.033       0.101\n",
       "Literacy rate                                 0.0291      0.010      2.790      0.005       0.009       0.050\n",
       "SC Percentage                                 0.0280      0.013      2.154      0.031       0.003       0.053\n",
       "ST Percentage                                 0.0455      0.011      3.978      0.000       0.023       0.068\n",
       "Marginal Workers in each district            -0.0924      0.027     -3.449      0.001      -0.145      -0.040\n",
       "Number of main workers in each district      -0.0731      0.020     -3.571      0.000      -0.113      -0.033\n",
       "Density of Population(per sq km)              0.0014      0.001      1.898      0.058   -4.65e-05       0.003\n",
       "=============================================================================================================\n",
       "\"\"\""
      ]
     },
     "execution_count": 18,
     "metadata": {},
     "output_type": "execute_result"
    }
   ],
   "source": [
    "model=sm.GLM(y,x,family=sm.families.Poisson())\n",
    "model=model.fit()\n",
    "model.summary()"
   ]
  },
  {
   "cell_type": "code",
   "execution_count": 22,
   "id": "2e6447d9",
   "metadata": {},
   "outputs": [],
   "source": [
    "import pickle as p\n",
    "p.dump(model,open(\"GLMpredictionrape.pickle\",\"wb\"))"
   ]
  },
  {
   "cell_type": "code",
   "execution_count": 23,
   "id": "39b03141",
   "metadata": {},
   "outputs": [],
   "source": [
    "model=p.load(open(\"GLMpredictionrape.pickle\",\"rb\"))"
   ]
  },
  {
   "cell_type": "code",
   "execution_count": 12,
   "id": "ed250b2c",
   "metadata": {
    "collapsed": true
   },
   "outputs": [
    {
     "data": {
      "text/plain": [
       "0     0.417443\n",
       "1     0.410646\n",
       "2     0.276348\n",
       "3     0.624082\n",
       "4     0.468727\n",
       "5     0.222562\n",
       "6     0.429553\n",
       "7     0.821596\n",
       "8     0.680206\n",
       "9     0.539084\n",
       "10    0.579882\n",
       "11    0.331754\n",
       "12    0.624578\n",
       "13    0.353899\n",
       "14    1.005155\n",
       "15    0.749896\n",
       "16    0.471832\n",
       "18    0.786132\n",
       "19    0.704432\n",
       "20    0.855263\n",
       "21    0.780107\n",
       "22    0.656551\n",
       "23    0.411684\n",
       "24    0.447448\n",
       "25    0.360326\n",
       "26    0.881834\n",
       "27    0.552608\n",
       "28    1.903497\n",
       "29    0.731159\n",
       "Name: Police Station Density Area Wise (per 100 sq km)\\r, dtype: float64"
      ]
     },
     "execution_count": 12,
     "metadata": {},
     "output_type": "execute_result"
    }
   ],
   "source": [
    "#x.pop(\"Sex Ratio\")\n",
    "#x.pop(\"Police Station Density Area Wise (per 100 sq km)\\r\")\n",
    "#x.pop(\"Police Station Density Population Wise (per 1lakh population)\\n\")"
   ]
  },
  {
   "cell_type": "code",
   "execution_count": 24,
   "id": "7a66ab33",
   "metadata": {},
   "outputs": [
    {
     "data": {
      "text/plain": [
       "0    24.803158\n",
       "dtype: float64"
      ]
     },
     "execution_count": 24,
     "metadata": {},
     "output_type": "execute_result"
    }
   ],
   "source": [
    "model.predict(pd.DataFrame(x.iloc[0].to_dict().values()).T)"
   ]
  }
 ],
 "metadata": {
  "kernelspec": {
   "display_name": "Python 3",
   "language": "python",
   "name": "python3"
  },
  "language_info": {
   "codemirror_mode": {
    "name": "ipython",
    "version": 3
   },
   "file_extension": ".py",
   "mimetype": "text/x-python",
   "name": "python",
   "nbconvert_exporter": "python",
   "pygments_lexer": "ipython3",
   "version": "3.8.8"
  }
 },
 "nbformat": 4,
 "nbformat_minor": 5
}
