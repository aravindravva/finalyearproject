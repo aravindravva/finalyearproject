{
 "cells": [
  {
   "cell_type": "code",
   "execution_count": 1,
   "id": "3d0f4c2e",
   "metadata": {},
   "outputs": [],
   "source": [
    "import numpy as np\n",
    "import pandas as pd\n",
    "import matplotlib.pyplot as plt"
   ]
  },
  {
   "cell_type": "code",
   "execution_count": 9,
   "id": "434f0ec2",
   "metadata": {},
   "outputs": [],
   "source": [
    "df=pd.read_csv(\"robbery_data.csv\")"
   ]
  },
  {
   "cell_type": "code",
   "execution_count": 10,
   "id": "a578fcf7",
   "metadata": {},
   "outputs": [],
   "source": [
    "df=df.drop(['District Name'],axis=1)"
   ]
  },
  {
   "cell_type": "code",
   "execution_count": 11,
   "id": "f853d43d",
   "metadata": {},
   "outputs": [],
   "source": [
    "df=df.drop([17])"
   ]
  },
  {
   "cell_type": "code",
   "execution_count": 13,
   "id": "f1e64020",
   "metadata": {},
   "outputs": [
    {
     "data": {
      "text/plain": [
       "Index(['No. of Robeery Cases(2019)', 'Count Of Rural Population',\n",
       "       'Count of Urban Population', 'Literacy rate ', 'Sex Ratio',\n",
       "       'SC Percentage ', 'ST Percentage ',\n",
       "       'Marginal Workers in each district ',\n",
       "       'Number of main workers in each district  ',\n",
       "       'Density of Population(per sq km)',\n",
       "       'Police Station Density Area Wise (per 100 sq km)\\n',\n",
       "       'Police Station Density Population Wise (per 1lakh population)\\n'],\n",
       "      dtype='object')"
      ]
     },
     "execution_count": 13,
     "metadata": {},
     "output_type": "execute_result"
    }
   ],
   "source": [
    "df.columns"
   ]
  },
  {
   "cell_type": "code",
   "execution_count": 14,
   "id": "0705fcc1",
   "metadata": {},
   "outputs": [],
   "source": [
    "y=df.pop('No. of Robeery Cases(2019)')\n",
    "x=df"
   ]
  },
  {
   "cell_type": "code",
   "execution_count": 39,
   "id": "dc5811db",
   "metadata": {},
   "outputs": [
    {
     "data": {
      "text/plain": [
       "RandomForestRegressor(bootstrap=False, max_depth=6, n_estimators=10,\n",
       "                      random_state=0)"
      ]
     },
     "execution_count": 39,
     "metadata": {},
     "output_type": "execute_result"
    }
   ],
   "source": [
    "from sklearn.ensemble import RandomForestRegressor\n",
    "regressor = RandomForestRegressor(bootstrap=False,n_estimators =10,random_state = 0,max_depth=6)\n",
    "regressor.fit(x, y)"
   ]
  },
  {
   "cell_type": "code",
   "execution_count": 43,
   "id": "b63a3f93",
   "metadata": {},
   "outputs": [
    {
     "data": {
      "text/plain": [
       "array([ 44.5       ,   9.33333333,  36.        ,  33.        ,\n",
       "         9.33333333,   9.33333333,   6.        ,  46.        ,\n",
       "        13.        ,  18.5       ,  18.5       ,  33.        ,\n",
       "        44.5       ,  66.        ,  20.        ,  39.        ,\n",
       "        61.        ,  51.        ,  49.        ,   6.        ,\n",
       "        11.        , 102.        ,   6.        ,  70.        ,\n",
       "         6.        ,  33.        ,  30.        ,  91.        ,\n",
       "        73.        ])"
      ]
     },
     "execution_count": 43,
     "metadata": {},
     "output_type": "execute_result"
    }
   ],
   "source": [
    "regressor.predict(x)"
   ]
  },
  {
   "cell_type": "code",
   "execution_count": 41,
   "id": "55b58efd",
   "metadata": {},
   "outputs": [],
   "source": [
    "import pickle as p\n",
    "p.dump(regressor,open(\"forestpredictionrobbery.pickle\",\"wb\"))"
   ]
  },
  {
   "cell_type": "code",
   "execution_count": 42,
   "id": "f5ccbade",
   "metadata": {},
   "outputs": [],
   "source": [
    "regressor=p.load(open(\"forestpredictionrobbery.pickle\",\"rb\"))"
   ]
  }
 ],
 "metadata": {
  "kernelspec": {
   "display_name": "Python 3",
   "language": "python",
   "name": "python3"
  },
  "language_info": {
   "codemirror_mode": {
    "name": "ipython",
    "version": 3
   },
   "file_extension": ".py",
   "mimetype": "text/x-python",
   "name": "python",
   "nbconvert_exporter": "python",
   "pygments_lexer": "ipython3",
   "version": "3.8.8"
  }
 },
 "nbformat": 4,
 "nbformat_minor": 5
}
